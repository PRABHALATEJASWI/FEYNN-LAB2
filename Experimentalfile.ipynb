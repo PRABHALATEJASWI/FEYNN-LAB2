{
  "nbformat": 4,
  "nbformat_minor": 0,
  "metadata": {
    "colab": {
      "provenance": [],
      "authorship_tag": "ABX9TyPOltEhKnTLrUQY83SntpNs",
      "include_colab_link": true
    },
    "kernelspec": {
      "name": "python3",
      "display_name": "Python 3"
    },
    "language_info": {
      "name": "python"
    }
  },
  "cells": [
    {
      "cell_type": "markdown",
      "metadata": {
        "id": "view-in-github",
        "colab_type": "text"
      },
      "source": [
        "<a href=\"https://colab.research.google.com/github/PRABHALATEJASWI/FEYNN-LAB2/blob/main/Experimentalfile.ipynb\" target=\"_parent\"><img src=\"https://colab.research.google.com/assets/colab-badge.svg\" alt=\"Open In Colab\"/></a>"
      ]
    },
    {
      "cell_type": "code",
      "execution_count": 1,
      "metadata": {
        "colab": {
          "base_uri": "https://localhost:8080/"
        },
        "id": "ybjCATW0ZOHr",
        "outputId": "aabf0248-a845-4e4d-873e-ae16d726da0a"
      },
      "outputs": [
        {
          "output_type": "stream",
          "name": "stdout",
          "text": [
            "Mounted at /content/drive\n"
          ]
        }
      ],
      "source": [
        "from google.colab import drive\n",
        "drive.mount('/content/drive')"
      ]
    },
    {
      "cell_type": "code",
      "source": [
        "from PIL import Image\n",
        "import glob"
      ],
      "metadata": {
        "id": "Iw9xluhSZRlh"
      },
      "execution_count": 2,
      "outputs": []
    },
    {
      "cell_type": "code",
      "source": [
        "files = glob.glob('C:/Users/red/Downloads/archive/model/Labelled/*/*')"
      ],
      "metadata": {
        "id": "m3O3KGRzZaKc"
      },
      "execution_count": 3,
      "outputs": []
    },
    {
      "cell_type": "code",
      "source": [
        "files_reshape = list(map(lambda x: x.replace('/Labelled\\\\', '/Resized\\\\'), files))"
      ],
      "metadata": {
        "id": "pXTkaQUbZaeC"
      },
      "execution_count": 4,
      "outputs": []
    },
    {
      "cell_type": "code",
      "source": [
        "basewidth = 300\n",
        "for file, file_save in zip(files, files_reshape):\n",
        "    img = Image.open(file)\n",
        "    wpercent = (basewidth/float(img.size[0]))\n",
        "    hsize = int((float(img.size[1])*float(wpercent)))\n",
        "    img = img.resize((basewidth,hsize), Image.ANTIALIAS)\n",
        "    img.save(file_save)"
      ],
      "metadata": {
        "id": "Dxf2Qv-5ZfeL"
      },
      "execution_count": 5,
      "outputs": []
    },
    {
      "cell_type": "code",
      "source": [
        "from skimage.morphology import binary_closing, binary_opening, erosion\n"
      ],
      "metadata": {
        "id": "wYgqJzdKZiVf"
      },
      "execution_count": 7,
      "outputs": []
    },
    {
      "cell_type": "code",
      "source": [
        "files_bgremoved = list(map(lambda x: x.replace('/Labelled\\\\', '/BGRemoved\\\\'), files))"
      ],
      "metadata": {
        "id": "eqRYeCvHZtHh"
      },
      "execution_count": 8,
      "outputs": []
    },
    {
      "cell_type": "code",
      "source": [
        "import numpy as np\n",
        "selem = np.zeros((25, 25))\n",
        "\n",
        "ci,cj=12, 12\n",
        "cr=13\n",
        "\n",
        "# Create index arrays to z\n",
        "I,J=np.meshgrid(np.arange(selem.shape[0]),np.arange(selem.shape[1]))\n",
        "\n",
        "# calculate distance of all points to centre\n",
        "dist=np.sqrt((I-ci)**2+(J-cj)**2)\n",
        "\n",
        "# Assign value of 1 to those points where dist<cr:\n",
        "selem[np.where(dist<=cr)]=1"
      ],
      "metadata": {
        "id": "iO9AqQYlZwP-"
      },
      "execution_count": 10,
      "outputs": []
    },
    {
      "cell_type": "code",
      "source": [
        "%matplotlib inline\n",
        "import numpy as np\n",
        "from scipy import ndimage\n",
        "\n",
        "# fig, ax = plt.subplots(20,2, figsize=(10,80))\n",
        "idx = 0\n",
        "for file, file_save in zip(files, files_bgremoved):\n",
        "    bg_frac = 0\n",
        "    thres = 220\n",
        "    img = Image.open(file)\n",
        "    im_arr = np.array(img)\n",
        "#     ax[idx, 0].imshow(im_arr)\n",
        "    R = im_arr[:, :, 0]\n",
        "    G = im_arr[:, :, 1]\n",
        "    B = im_arr[:, :, 2]\n",
        "    while bg_frac < 0.6:\n",
        "        bg_mask = ((R>thres) | (B>thres))# & (G < 100)\n",
        "        bg_frac = bg_mask.sum()/len(bg_mask.flatten())\n",
        "        thres -= 5\n",
        "    # we use opening first since our mask is reversed (the foreground and background are reversed here)\n",
        "    bg_mask = binary_closing(erosion(binary_opening(bg_mask, selem), np.ones((3, 3))), np.ones((5,5)))\n",
        "\n",
        "    #Get biggest blob\n",
        "    label, num_label = ndimage.label(~bg_mask)\n",
        "    size = np.bincount(label.ravel())\n",
        "    biggest_label = size[1:].argmax() + 1\n",
        "    bg_mask = label == biggest_label\n",
        "\n",
        "    im_arr[~bg_mask, 0] = 255\n",
        "    im_arr[~bg_mask, 1] = 255\n",
        "    im_arr[~bg_mask, 2] = 255\n",
        "\n",
        "    img = Image.fromarray(im_arr)\n",
        "    img.save(file_save)\n",
        "    idx+=1"
      ],
      "metadata": {
        "id": "Ly_WcRaBaANQ"
      },
      "execution_count": 11,
      "outputs": []
    },
    {
      "cell_type": "code",
      "source": [
        "import matplotlib.pyplot as plt\n",
        "import numpy as np\n",
        "\n",
        "# Example data\n",
        "R = np.random.rand(100)  # Example random data for the red channel\n",
        "G = np.random.rand(100)  # Example random data for the green channel\n",
        "B = np.random.rand(100)  # Example random data for the blue channel\n",
        "\n",
        "# Plot histograms\n",
        "plt.hist(R.flatten(), alpha=0.5)\n",
        "plt.hist(G.flatten(), alpha=0.5)\n",
        "plt.hist(B.flatten(), alpha=0.5)\n",
        "\n",
        "plt.show()\n"
      ],
      "metadata": {
        "colab": {
          "base_uri": "https://localhost:8080/",
          "height": 430
        },
        "id": "k18Vtg6_aDhB",
        "outputId": "6f3eaa83-dd0b-4513-8373-7351e5a40669"
      },
      "execution_count": 13,
      "outputs": [
        {
          "output_type": "display_data",
          "data": {
            "text/plain": [
              "<Figure size 640x480 with 1 Axes>"
            ],
            "image/png": "[encoded data removed]"
          },
          "metadata": {}
        }
      ]
    },
    {
      "cell_type": "code",
      "source": [
        "import os\n",
        "import numpy as np\n",
        "from tensorflow.keras.preprocessing.image import ImageDataGenerator\n",
        "from tensorflow.keras import models\n",
        "from tensorflow.keras import layers\n",
        "from tensorflow.keras import optimizers\n",
        "import matplotlib.pyplot as plt\n",
        "%matplotlib inline\n",
        "\n",
        "base_dir = ('C:/Users/red/Downloads/archive/model/BGRemoved')\n",
        "os.makedirs(base_dir, exist_ok=True)"
      ],
      "metadata": {
        "id": "TAxZpG-daYO9"
      },
      "execution_count": 14,
      "outputs": []
    },
    {
      "cell_type": "code",
      "source": [
        "from tensorflow.keras.callbacks import ModelCheckpoint, ReduceLROnPlateau\n",
        "\n",
        "checkpoint = ModelCheckpoint('VGG16.h5', verbose=1, monitor='val_accuracy', save_best_only=True, mode='auto')"
      ],
      "metadata": {
        "id": "Zm3d-8NuafYj"
      },
      "execution_count": 16,
      "outputs": []
    },
    {
      "cell_type": "code",
      "source": [
        "datagen = ImageDataGenerator(\n",
        "    rotation_range=30, width_shift_range=0.15,\n",
        "    height_shift_range=0.15, shear_range=0.15,\n",
        "    zoom_range=0.2,horizontal_flip=True,\n",
        "    fill_mode=\"nearest\")\n",
        "# datagen = ImageDataGenerator(rescale=1./255)\n",
        "\n",
        "def extract_features(trainorval, sample_count):\n",
        "    features = np.zeros(shape=(sample_count, 7, 7, 512))\n",
        "    labels = np.zeros(shape=(sample_count, 4))\n",
        "    if trainorval==\"training\":\n",
        "        generator = train_generator\n",
        "    else:\n",
        "        generator = val_generator\n",
        "    i = 0\n",
        "    for inputs_batch, labels_batch in generator:\n",
        "        features_batch = conv_base.predict(preprocess_input(inputs_batch))\n",
        "        try:\n",
        "            features[i * batch_size : (i + 1) * batch_size] = features_batch\n",
        "            labels[i * batch_size : (i + 1) * batch_size] = labels_batch\n",
        "        except ValueError:\n",
        "            break\n",
        "        i += 1\n",
        "        if i * batch_size >= sample_count:\n",
        "            break\n",
        "    return features, labels"
      ],
      "metadata": {
        "id": "ZFuIMcIqatP5"
      },
      "execution_count": 17,
      "outputs": []
    },
    {
      "cell_type": "code",
      "source": [
        "from tensorflow.keras.applications.vgg16 import VGG16, preprocess_input\n",
        "\n",
        "conv_base = VGG16(weights='imagenet',\n",
        "                  include_top=False,\n",
        "                  input_shape=(224, 224, 3))"
      ],
      "metadata": {
        "colab": {
          "base_uri": "https://localhost:8080/"
        },
        "id": "h_cD9DbjazPi",
        "outputId": "8b220c30-da21-428b-cfb8-dbf1b98b72a6"
      },
      "execution_count": 18,
      "outputs": [
        {
          "output_type": "stream",
          "name": "stdout",
          "text": [
            "Downloading data from https://storage.googleapis.com/tensorflow/keras-applications/vgg16/vgg16_weights_tf_dim_ordering_tf_kernels_notop.h5\n",
            "58889256/58889256 [==============================] - 0s 0us/step\n"
          ]
        }
      ]
    },
    {
      "cell_type": "code",
      "source": [
        "conv_base.trainable = True\n",
        "for layer in conv_base.layers:\n",
        "    layer.trainable = True"
      ],
      "metadata": {
        "id": "uBC46nqYa5AM"
      },
      "execution_count": 19,
      "outputs": []
    },
    {
      "cell_type": "code",
      "source": [
        "model = models.Sequential()\n",
        "model.add(layers.Dense(256, activation='relu', input_dim=7 * 7 * 512))\n",
        "model.add(layers.Dropout(0.2))\n",
        "model.add(layers.Dense(128, activation='relu'))\n",
        "model.add(layers.Dropout(0.2))  #Removing 50% of the weights!\n",
        "model.add(layers.Dense(4, activation='softmax'))"
      ],
      "metadata": {
        "id": "DJk7mepPa_kM"
      },
      "execution_count": 21,
      "outputs": []
    },
    {
      "cell_type": "code",
      "source": [
        "from tensorflow.keras.optimizers import Adam\n",
        "\n",
        "INIT_LR = 1e-1\n",
        "EPOCHS = 30\n",
        "\n",
        "opt = Adam(learning_rate=INIT_LR)\n",
        "model.compile(loss=\"binary_crossentropy\", optimizer=opt, metrics=[\"accuracy\"])\n",
        "\n"
      ],
      "metadata": {
        "id": "nRw9a5jZbLOV"
      },
      "execution_count": 25,
      "outputs": []
    },
    {
      "cell_type": "code",
      "source": [
        "from tensorflow.keras.models import Sequential\n",
        "from tensorflow.keras.layers import Dense\n",
        "# from tensorflow.keras.utils.vis_utils import plot_model\n",
        "from tensorflow.keras.utils import plot_model\n",
        "import os\n",
        "os.environ[\"PATH\"] += os.pathsep + 'C:\\\\Users\\\\1000246125\\\\AppData\\\\Local\\\\Continuum\\\\anaconda3\\\\Library\\\\bin'\n",
        "model = Sequential()\n",
        "model.add(Dense(2, input_dim=1, activation='relu'))\n",
        "model.add(Dense(1, activation='sigmoid'))\n",
        "plot_model(model, to_file='model_plot.png', show_shapes=True, show_layer_names=True)"
      ],
      "metadata": {
        "colab": {
          "base_uri": "https://localhost:8080/",
          "height": 312
        },
        "id": "42f25dL-bi5k",
        "outputId": "25333bd7-1584-4fea-8bdd-bab612edf723"
      },
      "execution_count": 26,
      "outputs": [
        {
          "output_type": "execute_result",
          "data": {
            "image/png": "[encoded data removed]",
            "text/plain": [
              "<IPython.core.display.Image object>"
            ]
          },
          "metadata": {},
          "execution_count": 26
        }
      ]
    },
    {
      "cell_type": "code",
      "source": [
        "datagen = ImageDataGenerator(\n",
        "    rotation_range=30, width_shift_range=0.15,\n",
        "    height_shift_range=0.15, shear_range=0.15,\n",
        "    zoom_range=0.2,horizontal_flip=True,\n",
        "    fill_mode=\"nearest\", validation_split=0.3)\n",
        "batch_size = 32\n",
        "\n",
        "train_generator = datagen.flow_from_directory(\n",
        "    base_dir,\n",
        "    target_size=(224, 224),\n",
        "    batch_size=batch_size,\n",
        "    class_mode='categorical',\n",
        "    subset='training')\n",
        "\n",
        "val_generator = datagen.flow_from_directory(\n",
        "    base_dir,\n",
        "    target_size=(224, 224),\n",
        "    batch_size=batch_size,\n",
        "    class_mode='categorical',\n",
        "    subset='validation')"
      ],
      "metadata": {
        "colab": {
          "base_uri": "https://localhost:8080/"
        },
        "id": "PYDGrga7bnIQ",
        "outputId": "4391ac26-19e3-4f3a-813c-61b5ecbf4b9a"
      },
      "execution_count": 30,
      "outputs": [
        {
          "output_type": "stream",
          "name": "stdout",
          "text": [
            "Found 0 images belonging to 0 classes.\n",
            "Found 0 images belonging to 0 classes.\n"
          ]
        }
      ]
    },
    {
      "cell_type": "code",
      "source": [
        "conv_base.trainable = True\n",
        "\n",
        "set_trainable = False\n",
        "for layer in conv_base.layers:\n",
        "    if layer.name == 'block4_conv1':\n",
        "        set_trainable = True\n",
        "    if set_trainable:\n",
        "        layer.trainable = True\n",
        "    else:\n",
        "        layer.trainable = False"
      ],
      "metadata": {
        "id": "AqZu93T6cAzD"
      },
      "execution_count": 31,
      "outputs": []
    },
    {
      "cell_type": "code",
      "source": [
        "model = models.Sequential()\n",
        "model.add(conv_base)\n",
        "model.add(layers.Flatten())\n",
        "model.add(layers.Dense(256, activation='relu', input_dim=7 * 7 * 512))\n",
        "# model.add(layers.Dropout(0.2))\n",
        "model.add(layers.Dense(128, activation='relu'))\n",
        "# model.add(layers.Dropout(0.2))  #Removing 50% of the weights!\n",
        "model.add(layers.Dense(4, activation='softmax'))"
      ],
      "metadata": {
        "id": "j1mzPh8ZcDWV"
      },
      "execution_count": 32,
      "outputs": []
    },
    {
      "cell_type": "code",
      "source": [
        "def extract_features19(trainorval, sample_count):\n",
        "    features = np.zeros(shape=(sample_count, 7, 7, 512))\n",
        "    labels = np.zeros(shape=(sample_count, 4))\n",
        "    if trainorval==\"training\":\n",
        "        generator = train_generator\n",
        "    else:\n",
        "        generator = val_generator\n",
        "    i = 0\n",
        "    for inputs_batch, labels_batch in generator:\n",
        "        features_batch = conv_base19.predict(preprocess_input(inputs_batch))\n",
        "        try:\n",
        "            features[i * batch_size : (i + 1) * batch_size] = features_batch\n",
        "            labels[i * batch_size : (i + 1) * batch_size] = labels_batch\n",
        "        except ValueError:\n",
        "            break\n",
        "        if i==0:\n",
        "            print(\"one down\")\n",
        "        i += 1\n",
        "        if i * batch_size >= sample_count:\n",
        "            break\n",
        "    return features, labels\n"
      ],
      "metadata": {
        "id": "VrPQzuGlcF0Y"
      },
      "execution_count": 35,
      "outputs": []
    },
    {
      "cell_type": "code",
      "source": [
        "from tensorflow.keras.applications.vgg19 import VGG19, preprocess_input\n",
        "\n",
        "conv_base19 = VGG19(weights='imagenet',\n",
        "                  include_top=False,\n",
        "                  input_shape=(224, 224, 3))"
      ],
      "metadata": {
        "colab": {
          "base_uri": "https://localhost:8080/"
        },
        "id": "_uwCHQb4cZR7",
        "outputId": "1e7df8e1-c3f5-4334-e797-013933fce707"
      },
      "execution_count": 36,
      "outputs": [
        {
          "output_type": "stream",
          "name": "stdout",
          "text": [
            "Downloading data from https://storage.googleapis.com/tensorflow/keras-applications/vgg19/vgg19_weights_tf_dim_ordering_tf_kernels_notop.h5\n",
            "80134624/80134624 [==============================] - 0s 0us/step\n"
          ]
        }
      ]
    },
    {
      "cell_type": "code",
      "source": [
        "datagen = ImageDataGenerator(\n",
        "    rotation_range=30, width_shift_range=0.15,\n",
        "    height_shift_range=0.15, shear_range=0.15,\n",
        "    zoom_range=0.2,horizontal_flip=True,\n",
        "    fill_mode=\"nearest\", validation_split=0.3)\n",
        "batch_size = 32\n",
        "\n",
        "train_generator = datagen.flow_from_directory(\n",
        "    base_dir,\n",
        "    target_size=(224, 224),\n",
        "    batch_size=batch_size,\n",
        "    class_mode='categorical',\n",
        "    subset='training')\n",
        "\n",
        "val_generator = datagen.flow_from_directory(\n",
        "    base_dir,\n",
        "    target_size=(224, 224),\n",
        "    batch_size=batch_size,\n",
        "    class_mode='categorical',\n",
        "    subset='validation')"
      ],
      "metadata": {
        "colab": {
          "base_uri": "https://localhost:8080/"
        },
        "id": "MrRseT_wccKE",
        "outputId": "d8f78477-9c94-4e50-cf0a-52d6768b76d2"
      },
      "execution_count": 38,
      "outputs": [
        {
          "output_type": "stream",
          "name": "stdout",
          "text": [
            "Found 0 images belonging to 0 classes.\n",
            "Found 0 images belonging to 0 classes.\n"
          ]
        }
      ]
    },
    {
      "cell_type": "code",
      "source": [
        "from tensorflow.keras.applications.xception import Xception, preprocess_input\n",
        "xception_base = Xception(weights='imagenet',\n",
        "                         include_top=False,\n",
        "                         input_shape=(224, 224, 3))"
      ],
      "metadata": {
        "colab": {
          "base_uri": "https://localhost:8080/"
        },
        "id": "xEnyTnA3cmsf",
        "outputId": "01e09fe2-6b65-4eb3-d43d-80c794101b7b"
      },
      "execution_count": 39,
      "outputs": [
        {
          "output_type": "stream",
          "name": "stdout",
          "text": [
            "Downloading data from https://storage.googleapis.com/tensorflow/keras-applications/xception/xception_weights_tf_dim_ordering_tf_kernels_notop.h5\n",
            "83683744/83683744 [==============================] - 0s 0us/step\n"
          ]
        }
      ]
    },
    {
      "cell_type": "code",
      "source": [
        "# datagen = ImageDataGenerator(rescale=1./255)\n",
        "\n",
        "def extract_features_xception(trainorval, sample_count):\n",
        "    features = np.zeros(shape=(sample_count, 7, 7, 2048))\n",
        "    labels = np.zeros(shape=(sample_count, 4))\n",
        "    if trainorval==\"training\":\n",
        "        generator = train_generator\n",
        "    else:\n",
        "        generator = val_generator\n",
        "    i = 0\n",
        "    for inputs_batch, labels_batch in generator:\n",
        "        features_batch = xception_base.predict(preprocess_input(inputs_batch))\n",
        "        try:\n",
        "            features[i * batch_size : (i + 1) * batch_size] = features_batch\n",
        "            labels[i * batch_size : (i + 1) * batch_size] = labels_batch\n",
        "        except ValueError:\n",
        "            break\n",
        "        i += 1\n",
        "        if i * batch_size >= sample_count:\n",
        "            break\n",
        "    return features, labels"
      ],
      "metadata": {
        "id": "l5zx9UlZcriE"
      },
      "execution_count": 40,
      "outputs": []
    },
    {
      "cell_type": "code",
      "source": [
        "\n",
        "\n",
        "model = models.Sequential()\n",
        "model.add(layers.Dense(256, activation='relu', input_dim=7 * 7 * 2048))\n",
        "model.add(layers.Dropout(0.35))\n",
        "model.add(layers.Dense(128, activation='relu'))\n",
        "model.add(layers.Dropout(0.35))  #Removing 50% of the weights!\n",
        "model.add(layers.Dense(4, activation='softmax'))"
      ],
      "metadata": {
        "id": "IgxTl2oCcuW1"
      },
      "execution_count": 44,
      "outputs": []
    },
    {
      "cell_type": "code",
      "source": [
        "def extract_features_resnet(trainorval, sample_count):\n",
        "    features = np.zeros(shape=(sample_count, 7, 7, 2048))\n",
        "    labels = np.zeros(shape=(sample_count, 4))\n",
        "    if trainorval==\"training\":\n",
        "        generator = train_generator\n",
        "    else:\n",
        "        generator = val_generator\n",
        "    i = 0\n",
        "    for inputs_batch, labels_batch in generator:\n",
        "        features_batch = resnet_base.predict(preprocess_input(inputs_batch))\n",
        "        try:\n",
        "            features[i * batch_size : (i + 1) * batch_size] = features_batch\n",
        "            labels[i * batch_size : (i + 1) * batch_size] = labels_batch\n",
        "        except ValueError:\n",
        "            break\n",
        "        i += 1\n",
        "        if i * batch_size >= sample_count:\n",
        "            break\n",
        "    return features, labels"
      ],
      "metadata": {
        "id": "jQnt7Xhxc3XX"
      },
      "execution_count": 45,
      "outputs": []
    },
    {
      "cell_type": "code",
      "source": [
        "{\n",
        "  \"Bacterial_leaf_blight\": \"Hispa\",\n",
        "  \"blast\": \"LeafBlast\",\n",
        "  \"brownspot\": \"BrownSpot\"\n",
        "}"
      ],
      "metadata": {
        "colab": {
          "base_uri": "https://localhost:8080/"
        },
        "id": "iEH0R97cdfVD",
        "outputId": "e765381b-09b7-4368-bed6-95207a2467ca"
      },
      "execution_count": 51,
      "outputs": [
        {
          "output_type": "execute_result",
          "data": {
            "text/plain": [
              "{'Bacterial_leaf_blight': 'Hispa',\n",
              " 'blast': 'LeafBlast',\n",
              " 'brownspot': 'BrownSpot'}"
            ]
          },
          "metadata": {},
          "execution_count": 51
        }
      ]
    }
  ]
}